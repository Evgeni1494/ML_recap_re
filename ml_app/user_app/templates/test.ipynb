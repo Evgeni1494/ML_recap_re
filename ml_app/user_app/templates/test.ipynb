{
 "cells": [
  {
   "cell_type": "code",
   "execution_count": null,
   "metadata": {},
   "outputs": [],
   "source": [
    "today = datetime.today()\n",
    "next_wednesday = today + timedelta(days=(2 - today.weekday()) % 7)\n",
    "next_tuesday = next_wednesday + timedelta(days=6)\n",
    "\n",
    "# Convertir les dates en format de chaîne pour la requête SQL\n",
    "next_wednesday_str = next_wednesday.strftime('%Y-%m-%dT%H:%M:%S.%f')\n",
    "next_tuesday_str = next_tuesday.strftime('%Y-%m-%dT%H:%M:%S.%f')\n",
    "query = f\"SELECT * FROM [dbo].[actu_scrap_poster1] WHERE [date] BETWEEN '{next_wednesday_str}' AND '{next_tuesday_str}'\""
   ]
  },
  {
   "cell_type": "code",
   "execution_count": 9,
   "metadata": {},
   "outputs": [],
   "source": [
    "from datetime import datetime, timedelta\n",
    "\n",
    "date_actuelle = datetime.now()\n",
    "jour_de_semaine_actuel = date_actuelle.weekday()\n",
    "jours_jusqua_mercredi = (jour_de_semaine_actuel -2) % 7\n",
    "dernier_mercredi = date_actuelle - timedelta(days=jours_jusqua_mercredi+7)\n",
    "dernier_mercredi\n",
    "mardi_suivant = dernier_mercredi + timedelta(days=6)\n",
    "dernier_mercredi_str = dernier_mercredi.strftime('%Y-%m-%dT%H:%M:%S.%f')\n",
    "mardi_suivant_str = mardi_suivant.strftime('%Y-%m-%dT%H:%M:%S.%f')\n",
    "\n",
    "query = f\"SELECT * FROM [dbo].[actu_scrap_poster1] WHERE [date] BETWEEN '{dernier_mercredi_str}' AND '{mardi_suivant_str}'\"\n"
   ]
  }
 ],
 "metadata": {
  "kernelspec": {
   "display_name": "base",
   "language": "python",
   "name": "python3"
  },
  "language_info": {
   "codemirror_mode": {
    "name": "ipython",
    "version": 3
   },
   "file_extension": ".py",
   "mimetype": "text/x-python",
   "name": "python",
   "nbconvert_exporter": "python",
   "pygments_lexer": "ipython3",
   "version": "3.10.8"
  },
  "orig_nbformat": 4
 },
 "nbformat": 4,
 "nbformat_minor": 2
}
