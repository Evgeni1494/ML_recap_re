{
 "cells": [
  {
   "cell_type": "code",
   "execution_count": 23,
   "metadata": {},
   "outputs": [
    {
     "data": {
      "text/plain": [
       "True"
      ]
     },
     "execution_count": 23,
     "metadata": {},
     "output_type": "execute_result"
    }
   ],
   "source": [
    "import os, pandas as pd, pymongo\n",
    "from dotenv import load_dotenv\n",
    "load_dotenv()"
   ]
  },
  {
   "cell_type": "markdown",
   "metadata": {},
   "source": [
    "Les données d'entraînement scrapées ayant été fractionnées sur plusieurs collections d'une seule base de données Mongo\n",
    "Ce fichier permet de les recuperer et les concatener en une seule avant de procéderer à la jointure de la bdd JBBOX"
   ]
  },
  {
   "cell_type": "code",
   "execution_count": 24,
   "metadata": {},
   "outputs": [],
   "source": [
    "ATLAS_KEY = os.getenv('ATLAS_KEY')\n"
   ]
  },
  {
   "cell_type": "code",
   "execution_count": 25,
   "metadata": {},
   "outputs": [],
   "source": [
    "client = pymongo.MongoClient(ATLAS_KEY) # Connexion à Pymongo\n",
    "db = client[\"ML_re\"]"
   ]
  },
  {
   "cell_type": "code",
   "execution_count": 26,
   "metadata": {},
   "outputs": [
    {
     "data": {
      "text/plain": [
       "(8856, 15)"
      ]
     },
     "execution_count": 26,
     "metadata": {},
     "output_type": "execute_result"
    }
   ],
   "source": [
    "collection1 = db[\"films\"]\n",
    "data1 = list(collection1.find())\n",
    "df1 = pd.DataFrame(data1)\n",
    "df1.shape"
   ]
  },
  {
   "cell_type": "code",
   "execution_count": 27,
   "metadata": {},
   "outputs": [
    {
     "data": {
      "text/plain": [
       "(2581, 16)"
      ]
     },
     "execution_count": 27,
     "metadata": {},
     "output_type": "execute_result"
    }
   ],
   "source": [
    "collection2 = db[\"films2000_0_1000\"]\n",
    "data2 = list(collection2.find())\n",
    "df2 = pd.DataFrame(data2)\n",
    "df2.shape"
   ]
  },
  {
   "cell_type": "code",
   "execution_count": 28,
   "metadata": {},
   "outputs": [
    {
     "data": {
      "text/plain": [
       "(5416, 16)"
      ]
     },
     "execution_count": 28,
     "metadata": {},
     "output_type": "execute_result"
    }
   ],
   "source": [
    "collection3 = db[\"films2010_0_500\"]\n",
    "data3 = list(collection3.find())\n",
    "df3 = pd.DataFrame(data3)\n",
    "df3.shape"
   ]
  },
  {
   "cell_type": "code",
   "execution_count": 29,
   "metadata": {},
   "outputs": [
    {
     "data": {
      "text/plain": [
       "(1162, 16)"
      ]
     },
     "execution_count": 29,
     "metadata": {},
     "output_type": "execute_result"
    }
   ],
   "source": [
    "collection4 = db[\"films2010_501_1000\"]\n",
    "data4 = list(collection4.find())\n",
    "df4 = pd.DataFrame(data4)\n",
    "df4.shape"
   ]
  },
  {
   "cell_type": "code",
   "execution_count": 30,
   "metadata": {},
   "outputs": [
    {
     "data": {
      "text/plain": [
       "(1121, 16)"
      ]
     },
     "execution_count": 30,
     "metadata": {},
     "output_type": "execute_result"
    }
   ],
   "source": [
    "collection5 = db[\"films2020\"]\n",
    "data5 = list(collection5.find())\n",
    "df5 = pd.DataFrame(data5)\n",
    "df5.shape"
   ]
  },
  {
   "cell_type": "code",
   "execution_count": 31,
   "metadata": {},
   "outputs": [
    {
     "data": {
      "text/plain": [
       "(1121, 16)"
      ]
     },
     "execution_count": 31,
     "metadata": {},
     "output_type": "execute_result"
    }
   ],
   "source": [
    "collection6 = db[\"films2000_0_1000_2\"]\n",
    "data6 = list(collection5.find())\n",
    "df6 = pd.DataFrame(data5)\n",
    "df6.shape"
   ]
  },
  {
   "cell_type": "code",
   "execution_count": 32,
   "metadata": {},
   "outputs": [],
   "source": [
    "client.close()"
   ]
  },
  {
   "cell_type": "code",
   "execution_count": 41,
   "metadata": {},
   "outputs": [
    {
     "data": {
      "text/plain": [
       "(20257, 16)"
      ]
     },
     "execution_count": 41,
     "metadata": {},
     "output_type": "execute_result"
    }
   ],
   "source": [
    "df_final_db = pd.concat([df1,df2,df3,df4,df5,df6], ignore_index=True)\n",
    "df_final_db.shape"
   ]
  },
  {
   "cell_type": "code",
   "execution_count": 42,
   "metadata": {},
   "outputs": [
    {
     "data": {
      "text/plain": [
       "False    17816\n",
       "True      2441\n",
       "dtype: int64"
      ]
     },
     "execution_count": 42,
     "metadata": {},
     "output_type": "execute_result"
    }
   ],
   "source": [
    "df_final_db.duplicated(subset=['titre','titre_original','date_de_sortie','directeur','synopsis','note_presse', 'note_spectateurs','box_office_france', 'prix', 'nominations','budget','duree']).value_counts()"
   ]
  },
  {
   "cell_type": "code",
   "execution_count": 43,
   "metadata": {},
   "outputs": [
    {
     "data": {
      "text/html": [
       "<div>\n",
       "<style scoped>\n",
       "    .dataframe tbody tr th:only-of-type {\n",
       "        vertical-align: middle;\n",
       "    }\n",
       "\n",
       "    .dataframe tbody tr th {\n",
       "        vertical-align: top;\n",
       "    }\n",
       "\n",
       "    .dataframe thead th {\n",
       "        text-align: right;\n",
       "    }\n",
       "</style>\n",
       "<table border=\"1\" class=\"dataframe\">\n",
       "  <thead>\n",
       "    <tr style=\"text-align: right;\">\n",
       "      <th></th>\n",
       "      <th>titre</th>\n",
       "      <th>titre_original</th>\n",
       "      <th>date_de_sortie</th>\n",
       "      <th>genres</th>\n",
       "      <th>directeur</th>\n",
       "      <th>acteurs</th>\n",
       "      <th>synopsis</th>\n",
       "      <th>note_presse</th>\n",
       "      <th>note_spectateurs</th>\n",
       "      <th>nationalite</th>\n",
       "      <th>box_office_france</th>\n",
       "      <th>prix</th>\n",
       "      <th>nominations</th>\n",
       "      <th>budget</th>\n",
       "      <th>duree</th>\n",
       "    </tr>\n",
       "  </thead>\n",
       "  <tbody>\n",
       "    <tr>\n",
       "      <th>0</th>\n",
       "      <td>Les Vengeances de Maître Poutifard</td>\n",
       "      <td></td>\n",
       "      <td>28 juin 2023</td>\n",
       "      <td>[Comédie, Famille]</td>\n",
       "      <td>Pierre-François Martin-Laval</td>\n",
       "      <td>[Christian Clavier, Isabelle Nanty, Jennie-Ann...</td>\n",
       "      <td>Instituteur à la retraite, Robert Poutifard n'...</td>\n",
       "      <td>2,0</td>\n",
       "      <td>2,1</td>\n",
       "      <td>[ France,  Belgique]</td>\n",
       "      <td>360119</td>\n",
       "      <td>0</td>\n",
       "      <td>0</td>\n",
       "      <td>0.0</td>\n",
       "      <td>NaN</td>\n",
       "    </tr>\n",
       "  </tbody>\n",
       "</table>\n",
       "</div>"
      ],
      "text/plain": [
       "                                titre titre_original date_de_sortie  \\\n",
       "0  Les Vengeances de Maître Poutifard                  28 juin 2023   \n",
       "\n",
       "               genres                     directeur  \\\n",
       "0  [Comédie, Famille]  Pierre-François Martin-Laval   \n",
       "\n",
       "                                             acteurs  \\\n",
       "0  [Christian Clavier, Isabelle Nanty, Jennie-Ann...   \n",
       "\n",
       "                                            synopsis note_presse  \\\n",
       "0  Instituteur à la retraite, Robert Poutifard n'...         2,0   \n",
       "\n",
       "  note_spectateurs           nationalite  box_office_france prix nominations  \\\n",
       "0              2,1  [ France,  Belgique]             360119    0           0   \n",
       "\n",
       "   budget duree  \n",
       "0     0.0   NaN  "
      ]
     },
     "execution_count": 43,
     "metadata": {},
     "output_type": "execute_result"
    }
   ],
   "source": [
    "df_final_db = df_final_db.drop(df_final_db.columns[0], axis=1)\n",
    "df_final_db.head(1)"
   ]
  },
  {
   "cell_type": "code",
   "execution_count": 18,
   "metadata": {},
   "outputs": [],
   "source": [
    "# df_final_db['date_de_sortie'] = str(df_final_db['date_de_sortie'])"
   ]
  },
  {
   "cell_type": "code",
   "execution_count": 44,
   "metadata": {},
   "outputs": [
    {
     "data": {
      "text/plain": [
       "(17816, 15)"
      ]
     },
     "execution_count": 44,
     "metadata": {},
     "output_type": "execute_result"
    }
   ],
   "source": [
    "df_final = df_final_db.drop_duplicates(subset=['titre','titre_original','date_de_sortie','directeur','synopsis','note_presse', 'note_spectateurs','box_office_france', 'prix', 'nominations','budget','duree'])\n",
    "df_final.shape"
   ]
  },
  {
   "cell_type": "code",
   "execution_count": 45,
   "metadata": {},
   "outputs": [
    {
     "data": {
      "text/plain": [
       "Index(['titre', 'titre_original', 'date_de_sortie', 'genres', 'directeur',\n",
       "       'acteurs', 'synopsis', 'note_presse', 'note_spectateurs', 'nationalite',\n",
       "       'box_office_france', 'prix', 'nominations', 'budget', 'duree'],\n",
       "      dtype='object')"
      ]
     },
     "execution_count": 45,
     "metadata": {},
     "output_type": "execute_result"
    }
   ],
   "source": [
    "df_final.columns"
   ]
  },
  {
   "cell_type": "code",
   "execution_count": 21,
   "metadata": {},
   "outputs": [],
   "source": [
    "df_final.to_csv('films_allocine_17816.csv', index=False)"
   ]
  }
 ],
 "metadata": {
  "kernelspec": {
   "display_name": "base",
   "language": "python",
   "name": "python3"
  },
  "language_info": {
   "codemirror_mode": {
    "name": "ipython",
    "version": 3
   },
   "file_extension": ".py",
   "mimetype": "text/x-python",
   "name": "python",
   "nbconvert_exporter": "python",
   "pygments_lexer": "ipython3",
   "version": "3.10.8"
  },
  "orig_nbformat": 4
 },
 "nbformat": 4,
 "nbformat_minor": 2
}
