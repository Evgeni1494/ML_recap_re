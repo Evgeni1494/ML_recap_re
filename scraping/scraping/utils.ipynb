{
 "cells": [
  {
   "cell_type": "code",
   "execution_count": 43,
   "metadata": {},
   "outputs": [],
   "source": [
    "def enlever_backslashs_n(texte:str) -> str:\n",
    "    \"\"\"\n",
    "    Pour nettoyer le texte scrapé quand il a '\\n' au début à la fin\n",
    "    prends une chaine de caractères et retour cette chaîne sans les deux premiers et derniers caractères\n",
    "    \n",
    "    :param texte: string à nettoyer\n",
    "    :return texte: string nettoyé\n",
    "    \"\"\"\n",
    "    texte = texte.strip()\n",
    "    return texte"
   ]
  },
  {
   "cell_type": "code",
   "execution_count": 2,
   "metadata": {},
   "outputs": [],
   "source": [
    "exemple1 = \"\\n28 juin 2023\\n\""
   ]
  },
  {
   "cell_type": "code",
   "execution_count": 44,
   "metadata": {},
   "outputs": [
    {
     "data": {
      "text/plain": [
       "'28 juin 2023'"
      ]
     },
     "execution_count": 44,
     "metadata": {},
     "output_type": "execute_result"
    }
   ],
   "source": [
    "enlever_backslashs_n(exemple1)"
   ]
  },
  {
   "cell_type": "code",
   "execution_count": 4,
   "metadata": {},
   "outputs": [],
   "source": [
    "import pandas as pd\n",
    "\n",
    "df = pd.read_csv('../films.csv')"
   ]
  },
  {
   "cell_type": "code",
   "execution_count": 5,
   "metadata": {},
   "outputs": [
    {
     "data": {
      "text/plain": [
       "\"\\nAprès avoir retrouvé Gwen Stacy, Spider-Man, le sympathique héros originaire de Brooklyn, est catapulté à travers le Multivers, où il rencontre une équipe de Spider-Héros chargée d'en protéger l'existence. Mais lorsque les héros s'opposent sur la façon de gérer une nouvelle menace, Miles se retrouve confronté à eux et doit redéfinir ce que signifie être un héros afin de sauver les personnes qu'il aime le plus.\\n\""
      ]
     },
     "execution_count": 5,
     "metadata": {},
     "output_type": "execute_result"
    }
   ],
   "source": [
    "syno = df.iloc[8,5]\n",
    "syno"
   ]
  },
  {
   "cell_type": "code",
   "execution_count": 6,
   "metadata": {},
   "outputs": [
    {
     "data": {
      "text/plain": [
       "\"Après avoir retrouvé Gwen Stacy, Spider-Man, le sympathique héros originaire de Brooklyn, est catapulté à travers le Multivers, où il rencontre une équipe de Spider-Héros chargée d'en protéger l'existence. Mais lorsque les héros s'opposent sur la façon de gérer une nouvelle menace, Miles se retrouve confronté à eux et doit redéfinir ce que signifie être un héros afin de sauver les personnes qu'il aime le plus.\""
      ]
     },
     "execution_count": 6,
     "metadata": {},
     "output_type": "execute_result"
    }
   ],
   "source": [
    "enlever_backslashs_n(syno)"
   ]
  },
  {
   "cell_type": "code",
   "execution_count": 7,
   "metadata": {},
   "outputs": [
    {
     "data": {
      "text/plain": [
       "\"[' France', ' Belgique']\""
      ]
     },
     "execution_count": 7,
     "metadata": {},
     "output_type": "execute_result"
    }
   ],
   "source": [
    "liste_exemple = df.nationalite.loc[1]\n",
    "liste_exemple"
   ]
  },
  {
   "cell_type": "code",
   "execution_count": 8,
   "metadata": {},
   "outputs": [],
   "source": [
    "import ast\n",
    "def enlever_espace_pays(liste_de_pays:list) -> list:\n",
    "    liste_de_pays = ast.literal_eval(liste_de_pays)\n",
    "    liste_de_pays_sans_espace = []\n",
    "    for pays in liste_de_pays:\n",
    "        pays = pays[1:]\n",
    "        liste_de_pays_sans_espace.append(pays)\n",
    "    return liste_de_pays_sans_espace"
   ]
  },
  {
   "cell_type": "code",
   "execution_count": 9,
   "metadata": {},
   "outputs": [
    {
     "data": {
      "text/plain": [
       "['France', 'Belgique']"
      ]
     },
     "execution_count": 9,
     "metadata": {},
     "output_type": "execute_result"
    }
   ],
   "source": [
    "enlever_espace_pays(liste_exemple)"
   ]
  },
  {
   "cell_type": "code",
   "execution_count": 22,
   "metadata": {},
   "outputs": [
    {
     "data": {
      "text/plain": [
       "'\\n1 prix et 8 nominations\\n'"
      ]
     },
     "execution_count": 22,
     "metadata": {},
     "output_type": "execute_result"
    }
   ],
   "source": [
    "exemple_prix_nominations = df.prix_et_nominations.loc[7]\n",
    "exemple_prix_nominations"
   ]
  },
  {
   "cell_type": "code",
   "execution_count": 129,
   "metadata": {},
   "outputs": [],
   "source": [
    "def extraire_prix_et_nominations(texte:str) -> tuple:\n",
    "    texte = texte.strip()\n",
    "    nombre_de_prix = 0\n",
    "    nombre_de_nominations = 0\n",
    "    if 'prix' in texte:\n",
    "        nombre_de_prix = texte.split('prix')[0][:-1]\n",
    "    if 'nomination' in texte:\n",
    "        tokens = texte.split('nomination')[0].split(' ')\n",
    "        chiffres = []\n",
    "        for token in tokens:\n",
    "            if token.isdigit():\n",
    "                chiffres.append(token)\n",
    "        nombre_de_nominations = chiffres[-1]\n",
    "    prix_et_nominations = (nombre_de_prix, nombre_de_nominations)    \n",
    "    return prix_et_nominations"
   ]
  },
  {
   "cell_type": "code",
   "execution_count": 130,
   "metadata": {},
   "outputs": [
    {
     "data": {
      "text/plain": [
       "'8'"
      ]
     },
     "execution_count": 130,
     "metadata": {},
     "output_type": "execute_result"
    }
   ],
   "source": [
    "extraire_prix_et_nominations(exemple_prix_nominations)[1]"
   ]
  },
  {
   "cell_type": "code",
   "execution_count": 126,
   "metadata": {},
   "outputs": [
    {
     "data": {
      "text/plain": [
       "(0, 0)"
      ]
     },
     "execution_count": 126,
     "metadata": {},
     "output_type": "execute_result"
    }
   ],
   "source": [
    "extraire_prix_et_nominations('1 ')"
   ]
  },
  {
   "cell_type": "code",
   "execution_count": null,
   "metadata": {},
   "outputs": [],
   "source": [
    "net"
   ]
  },
  {
   "cell_type": "code",
   "execution_count": 38,
   "metadata": {},
   "outputs": [
    {
     "ename": "ValueError",
     "evalue": "invalid literal for int() with base 10: ''",
     "output_type": "error",
     "traceback": [
      "\u001b[0;31m---------------------------------------------------------------------------\u001b[0m",
      "\u001b[0;31mValueError\u001b[0m                                Traceback (most recent call last)",
      "Cell \u001b[0;32mIn[38], line 12\u001b[0m\n\u001b[1;32m     10\u001b[0m \u001b[39m# Exemple d'utilisation :\u001b[39;00m\n\u001b[1;32m     11\u001b[0m chaine \u001b[39m=\u001b[39m \u001b[39m\"\u001b[39m\u001b[39mABC 123 XYZ 456 \u001b[39m\u001b[39m\"\u001b[39m\n\u001b[0;32m---> 12\u001b[0m dernier_nombre \u001b[39m=\u001b[39m extraire_dernier_nombre(chaine)\n\u001b[1;32m     13\u001b[0m \u001b[39mprint\u001b[39m(dernier_nombre)\n",
      "Cell \u001b[0;32mIn[38], line 8\u001b[0m, in \u001b[0;36mextraire_dernier_nombre\u001b[0;34m(chaine)\u001b[0m\n\u001b[1;32m      6\u001b[0m     \u001b[39melse\u001b[39;00m:\n\u001b[1;32m      7\u001b[0m         \u001b[39mbreak\u001b[39;00m\n\u001b[0;32m----> 8\u001b[0m \u001b[39mreturn\u001b[39;00m \u001b[39mint\u001b[39;49m(dernier_nombre)\n",
      "\u001b[0;31mValueError\u001b[0m: invalid literal for int() with base 10: ''"
     ]
    }
   ],
   "source": [
    "def extraire_dernier_nombre(chaine: str) -> int:\n",
    "    dernier_nombre = \"\"\n",
    "    for caractere in reversed(chaine):\n",
    "        if caractere.isdigit():\n",
    "            dernier_nombre = caractere + dernier_nombre\n",
    "        else:\n",
    "            break\n",
    "    return int(dernier_nombre)\n",
    "\n",
    "# Exemple d'utilisation :\n",
    "chaine = \"ABC 123 XYZ 456 \"\n",
    "dernier_nombre = extraire_dernier_nombre(chaine)\n",
    "print(dernier_nombre)\n"
   ]
  },
  {
   "cell_type": "code",
   "execution_count": 92,
   "metadata": {},
   "outputs": [
    {
     "name": "stdout",
     "output_type": "stream",
     "text": [
      "8\n"
     ]
    }
   ],
   "source": [
    "liste = ['1', 'prix', 'et', '8', '']\n",
    "\n",
    "# Parcourir la liste en partant de la fin\n",
    "for i in range(len(liste) - 1, -1, -1):\n",
    "    if liste[i].isdigit():  # Vérifier si l'élément est un nombre\n",
    "        dernier_nombre = liste[i]\n",
    "        break  # Sortir de la boucle dès que le dernier nombre est trouvé\n",
    "\n",
    "print(dernier_nombre)"
   ]
  }
 ],
 "metadata": {
  "kernelspec": {
   "display_name": "base",
   "language": "python",
   "name": "python3"
  },
  "language_info": {
   "codemirror_mode": {
    "name": "ipython",
    "version": 3
   },
   "file_extension": ".py",
   "mimetype": "text/x-python",
   "name": "python",
   "nbconvert_exporter": "python",
   "pygments_lexer": "ipython3",
   "version": "3.10.8"
  },
  "orig_nbformat": 4
 },
 "nbformat": 4,
 "nbformat_minor": 2
}
