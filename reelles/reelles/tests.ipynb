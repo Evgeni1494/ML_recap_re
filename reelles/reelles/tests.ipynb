{
 "cells": [
  {
   "cell_type": "code",
   "execution_count": 2,
   "metadata": {},
   "outputs": [
    {
     "name": "stdout",
     "output_type": "stream",
     "text": [
      "URL pour la semaine précédente: https://www.jpbox-office.com/v9_tophebdo.php?idsem=2797&view=2\n"
     ]
    }
   ],
   "source": [
    "from datetime import datetime, timedelta\n",
    "\n",
    "# ID de la semaine de référence (par exemple, la semaine du 19 au 25 juillet)\n",
    "id_semaine_reference = 2767\n",
    "\n",
    "# Date de la semaine de référence (mercredi 19 juillet)\n",
    "date_semaine_reference = datetime(2023, 1, 4)\n",
    "\n",
    "# Date actuelle\n",
    "date_actuelle = datetime.now()\n",
    "jour_de_semaine_actuel = date_actuelle.weekday()\n",
    "jours_jusqua_mercredi = (jour_de_semaine_actuel -2) % 7\n",
    "dernier_mercredi = date_actuelle - timedelta(days=jours_jusqua_mercredi)\n",
    "\n",
    "\n",
    "# Calcul de l'écart en nombre de semaines\n",
    "ecart_semaines = (dernier_mercredi - date_semaine_reference).days // 7\n",
    "\n",
    "# Calcul de l'id de la semaine en cours\n",
    "id_semaine_precedente = id_semaine_reference + ecart_semaines -1\n",
    "\n",
    "url_semaine_precedente = f\"https://www.jpbox-office.com/v9_tophebdo.php?idsem={id_semaine_precedente}&view=2\"\n",
    "print(\"URL pour la semaine précédente:\", url_semaine_precedente)\n"
   ]
  },
  {
   "cell_type": "code",
   "execution_count": 16,
   "metadata": {},
   "outputs": [
    {
     "data": {
      "text/plain": [
       "'09/08/2023'"
      ]
     },
     "execution_count": 16,
     "metadata": {},
     "output_type": "execute_result"
    }
   ],
   "source": [
    "date_actuelle = datetime.now()\n",
    "jour_de_semaine_actuel = date_actuelle.weekday()\n",
    "jours_jusqua_mercredi = (jour_de_semaine_actuel -2) % 7\n",
    "dernier_mercredi = (date_actuelle - timedelta(days=jours_jusqua_mercredi)).strftime('%d/%m/%Y')\n",
    "dernier_mercredi\n"
   ]
  },
  {
   "cell_type": "code",
   "execution_count": 9,
   "metadata": {},
   "outputs": [
    {
     "data": {
      "text/plain": [
       "'09/08/2023'"
      ]
     },
     "execution_count": 9,
     "metadata": {},
     "output_type": "execute_result"
    }
   ],
   "source": [
    "date_actuelle = datetime.now()   \n",
    "jour_de_semaine_actuel = date_actuelle.weekday()\n",
    "jours_jusqua_mercredi = (2 - jour_de_semaine_actuel) % 7\n",
    "mercredi_suivant = date_actuelle + timedelta(days=jours_jusqua_mercredi)\n",
    "date_prochain_mercredi = mercredi_suivant.strftime(\"%d/%m/%Y\")\n",
    "date_prochain_mercredi"
   ]
  },
  {
   "cell_type": "code",
   "execution_count": 23,
   "metadata": {},
   "outputs": [
    {
     "data": {
      "text/plain": [
       "2796"
      ]
     },
     "execution_count": 23,
     "metadata": {},
     "output_type": "execute_result"
    }
   ],
   "source": [
    "id_semaine_reference = 2767\n",
    "date_semaine_reference = datetime(2023, 1, 4)\n",
    "jours_jusqua_mercredi = ((datetime.now().weekday()) - 2) % 7\n",
    "dernier_mercredi = date_actuelle - timedelta(days=jours_jusqua_mercredi)\n",
    "ecart_semaines = (dernier_mercredi - date_semaine_reference).days // 7\n",
    "id_semaine_precedente = id_semaine_reference + ecart_semaines -1\n",
    "id_semaine_precedente"
   ]
  },
  {
   "cell_type": "code",
   "execution_count": 28,
   "metadata": {},
   "outputs": [],
   "source": [
    "import pandas as pd\n",
    "\n",
    "df = pd.read_csv('../real_data.csv')"
   ]
  },
  {
   "cell_type": "code",
   "execution_count": 29,
   "metadata": {},
   "outputs": [
    {
     "data": {
      "text/html": [
       "<div>\n",
       "<style scoped>\n",
       "    .dataframe tbody tr th:only-of-type {\n",
       "        vertical-align: middle;\n",
       "    }\n",
       "\n",
       "    .dataframe tbody tr th {\n",
       "        vertical-align: top;\n",
       "    }\n",
       "\n",
       "    .dataframe thead th {\n",
       "        text-align: right;\n",
       "    }\n",
       "</style>\n",
       "<table border=\"1\" class=\"dataframe\">\n",
       "  <thead>\n",
       "    <tr style=\"text-align: right;\">\n",
       "      <th></th>\n",
       "      <th>Un hiver en été</th>\n",
       "      <th>26/07/2023</th>\n",
       "      <th>1 634</th>\n",
       "    </tr>\n",
       "  </thead>\n",
       "  <tbody>\n",
       "    <tr>\n",
       "      <th>0</th>\n",
       "      <td>Juniors</td>\n",
       "      <td>26/07/2023</td>\n",
       "      <td>6 943</td>\n",
       "    </tr>\n",
       "    <tr>\n",
       "      <th>1</th>\n",
       "      <td>Les Herbes sèches</td>\n",
       "      <td>12/07/2023</td>\n",
       "      <td>32 179</td>\n",
       "    </tr>\n",
       "    <tr>\n",
       "      <th>2</th>\n",
       "      <td>Ruby, l'ado Kraken</td>\n",
       "      <td>28/06/2023</td>\n",
       "      <td>88 243</td>\n",
       "    </tr>\n",
       "    <tr>\n",
       "      <th>3</th>\n",
       "      <td>Rendez-vous à Tokyo</td>\n",
       "      <td>26/07/2023</td>\n",
       "      <td>27 335</td>\n",
       "    </tr>\n",
       "    <tr>\n",
       "      <th>4</th>\n",
       "      <td>The First Slam Dunk</td>\n",
       "      <td>26/07/2023</td>\n",
       "      <td>33 488</td>\n",
       "    </tr>\n",
       "    <tr>\n",
       "      <th>5</th>\n",
       "      <td>Astérix et Obélix: Mission Cléopatre (Rep. 2023)</td>\n",
       "      <td>05/07/2023</td>\n",
       "      <td>NaN</td>\n",
       "    </tr>\n",
       "    <tr>\n",
       "      <th>6</th>\n",
       "      <td>Spider-Man : Across The Spider-Verse</td>\n",
       "      <td>31/05/2023</td>\n",
       "      <td>550 808</td>\n",
       "    </tr>\n",
       "    <tr>\n",
       "      <th>7</th>\n",
       "      <td>Sur la branche</td>\n",
       "      <td>26/07/2023</td>\n",
       "      <td>36 931</td>\n",
       "    </tr>\n",
       "    <tr>\n",
       "      <th>8</th>\n",
       "      <td>Les Vengeances de Maître Poutifard</td>\n",
       "      <td>28/06/2023</td>\n",
       "      <td>180 735</td>\n",
       "    </tr>\n",
       "    <tr>\n",
       "      <th>9</th>\n",
       "      <td>La Maison du mal</td>\n",
       "      <td>19/07/2023</td>\n",
       "      <td>NaN</td>\n",
       "    </tr>\n",
       "    <tr>\n",
       "      <th>10</th>\n",
       "      <td>Insidious: The Red Door</td>\n",
       "      <td>05/07/2023</td>\n",
       "      <td>306 107</td>\n",
       "    </tr>\n",
       "    <tr>\n",
       "      <th>11</th>\n",
       "      <td>Les Algues vertes</td>\n",
       "      <td>12/07/2023</td>\n",
       "      <td>125 566</td>\n",
       "    </tr>\n",
       "    <tr>\n",
       "      <th>12</th>\n",
       "      <td>La Main</td>\n",
       "      <td>26/07/2023</td>\n",
       "      <td>NaN</td>\n",
       "    </tr>\n",
       "    <tr>\n",
       "      <th>13</th>\n",
       "      <td>Miraculous - le film</td>\n",
       "      <td>05/07/2023</td>\n",
       "      <td>660 421</td>\n",
       "    </tr>\n",
       "    <tr>\n",
       "      <th>14</th>\n",
       "      <td>Indiana Jones et le Cadran de la Destinée</td>\n",
       "      <td>28/06/2023</td>\n",
       "      <td>NaN</td>\n",
       "    </tr>\n",
       "    <tr>\n",
       "      <th>15</th>\n",
       "      <td>Le Manoir hanté</td>\n",
       "      <td>26/07/2023</td>\n",
       "      <td>NaN</td>\n",
       "    </tr>\n",
       "    <tr>\n",
       "      <th>16</th>\n",
       "      <td>Elémentaire</td>\n",
       "      <td>21/06/2023</td>\n",
       "      <td>426 818</td>\n",
       "    </tr>\n",
       "    <tr>\n",
       "      <th>17</th>\n",
       "      <td>Les Déguns 2</td>\n",
       "      <td>26/07/2023</td>\n",
       "      <td>307 587</td>\n",
       "    </tr>\n",
       "    <tr>\n",
       "      <th>18</th>\n",
       "      <td>Mission: Impossible – Dead Reckoning Partie 1</td>\n",
       "      <td>12/07/2023</td>\n",
       "      <td>930 141</td>\n",
       "    </tr>\n",
       "    <tr>\n",
       "      <th>19</th>\n",
       "      <td>Oppenheimer</td>\n",
       "      <td>19/07/2023</td>\n",
       "      <td>NaN</td>\n",
       "    </tr>\n",
       "  </tbody>\n",
       "</table>\n",
       "</div>"
      ],
      "text/plain": [
       "                                     Un hiver en été  26/07/2023    1 634\n",
       "0                                            Juniors  26/07/2023    6 943\n",
       "1                                  Les Herbes sèches  12/07/2023   32 179\n",
       "2                                 Ruby, l'ado Kraken  28/06/2023   88 243\n",
       "3                                Rendez-vous à Tokyo  26/07/2023   27 335\n",
       "4                                The First Slam Dunk  26/07/2023   33 488\n",
       "5   Astérix et Obélix: Mission Cléopatre (Rep. 2023)  05/07/2023      NaN\n",
       "6               Spider-Man : Across The Spider-Verse  31/05/2023  550 808\n",
       "7                                     Sur la branche  26/07/2023   36 931\n",
       "8                 Les Vengeances de Maître Poutifard  28/06/2023  180 735\n",
       "9                                   La Maison du mal  19/07/2023      NaN\n",
       "10                           Insidious: The Red Door  05/07/2023  306 107\n",
       "11                                 Les Algues vertes  12/07/2023  125 566\n",
       "12                                           La Main  26/07/2023      NaN\n",
       "13                              Miraculous - le film  05/07/2023  660 421\n",
       "14         Indiana Jones et le Cadran de la Destinée  28/06/2023      NaN\n",
       "15                                   Le Manoir hanté  26/07/2023      NaN\n",
       "16                                       Elémentaire  21/06/2023  426 818\n",
       "17                                      Les Déguns 2  26/07/2023  307 587\n",
       "18     Mission: Impossible – Dead Reckoning Partie 1  12/07/2023  930 141\n",
       "19                                       Oppenheimer  19/07/2023      NaN"
      ]
     },
     "execution_count": 29,
     "metadata": {},
     "output_type": "execute_result"
    }
   ],
   "source": [
    "df"
   ]
  },
  {
   "cell_type": "code",
   "execution_count": 9,
   "metadata": {},
   "outputs": [
    {
     "name": "stdout",
     "output_type": "stream",
     "text": [
      "07 2023\n"
     ]
    }
   ],
   "source": [
    "date_actuelle = datetime.now()   \n",
    "dernier_jour_mois_precedent = ((date_actuelle.replace(day=1)) - timedelta(days=1)).strftime(\"%d/%m/%Y\")\n",
    "dernier_jour_mois_precedent\n",
    "\n",
    "\n",
    "\n",
    "# jour_de_semaine_actuel = date_actuelle.weekday()\n",
    "# jours_jusqua_mercredi = (2 - jour_de_semaine_actuel) % 7\n",
    "# mercredi_suivant = date_actuelle + timedelta(days=jours_jusqua_mercredi)\n",
    "# date_prochain_mercredi = mercredi_suivant.strftime(\"%d/%m/%Y\") # Récupere la date du jour et se place au mercredi suivant\n",
    "\n",
    "# jour = dernier_jour_mois_precedent[0:2]\n",
    "mois = dernier_jour_mois_precedent[3:5]\n",
    "annee = dernier_jour_mois_precedent[6:10]\n",
    "\n",
    "print(mois, annee)"
   ]
  },
  {
   "cell_type": "code",
   "execution_count": 4,
   "metadata": {},
   "outputs": [
    {
     "data": {
      "text/plain": [
       "'07'"
      ]
     },
     "execution_count": 4,
     "metadata": {},
     "output_type": "execute_result"
    }
   ],
   "source": [
    "from datetime import datetime, timedelta\n",
    "\n",
    "date_du_jour = datetime.now()   \n",
    "dernier_jour_mois_precedent = ((date_du_jour.replace(day=1)) - timedelta(days=1)).strftime(\"%d/%m/%Y\")\n",
    "\n",
    "mois = dernier_jour_mois_precedent[3:5]\n",
    "annee = dernier_jour_mois_precedent[6:10]\n",
    "\n",
    "mois"
   ]
  }
 ],
 "metadata": {
  "kernelspec": {
   "display_name": "base",
   "language": "python",
   "name": "python3"
  },
  "language_info": {
   "codemirror_mode": {
    "name": "ipython",
    "version": 3
   },
   "file_extension": ".py",
   "mimetype": "text/x-python",
   "name": "python",
   "nbconvert_exporter": "python",
   "pygments_lexer": "ipython3",
   "version": "3.10.8"
  },
  "orig_nbformat": 4
 },
 "nbformat": 4,
 "nbformat_minor": 2
}
