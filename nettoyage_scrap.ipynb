{
 "cells": [
  {
   "cell_type": "code",
   "execution_count": null,
   "metadata": {},
   "outputs": [],
   "source": [
    "# je veux reprendre les données scraper à mettre sur sql\n",
    "# ds nveau fichier, je veux recup ces donénes scrapées\n",
    "# je veux avoir un fichier avec: 1/. df ou sql avec ttes les données anciennes 2/incorporer les données scrapées \n",
    "# je veux mettre à jour ces données scrapées avec aide bdd ancienne\n",
    "# je veux que ces données aillent ds API et sa valeur de retour    >>> incorporée à la col. \"prédiction\" de ces données \n",
    "# =j'ai a table mise à jour avec les prédictions"
   ]
  },
  {
   "cell_type": "code",
   "execution_count": null,
   "metadata": {},
   "outputs": [],
   "source": []
  },
  {
   "cell_type": "code",
   "execution_count": null,
   "metadata": {},
   "outputs": [],
   "source": []
  },
  {
   "cell_type": "code",
   "execution_count": null,
   "metadata": {},
   "outputs": [],
   "source": []
  },
  {
   "cell_type": "code",
   "execution_count": null,
   "metadata": {},
   "outputs": [],
   "source": []
  },
  {
   "cell_type": "code",
   "execution_count": null,
   "metadata": {},
   "outputs": [],
   "source": []
  }
 ],
 "metadata": {
  "language_info": {
   "name": "python"
  },
  "orig_nbformat": 4
 },
 "nbformat": 4,
 "nbformat_minor": 2
}
