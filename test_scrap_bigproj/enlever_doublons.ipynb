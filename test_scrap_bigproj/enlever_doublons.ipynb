{
 "cells": [
  {
   "cell_type": "code",
   "execution_count": 1,
   "metadata": {},
   "outputs": [],
   "source": [
    "from pymongo import MongoClient\n",
    "import pandas as pd\n",
    "from dotenv import load_dotenv\n",
    "import os\n",
    "load_dotenv()\n",
    "ATLAS_KEY= os.getenv('ATLAS_KEY')\n",
    "\n",
    "client= MongoClient(ATLAS_KEY)\n",
    "\n",
    "db=client.cluster0\n",
    "collection=db[\"test_lundi_bis_fr_10k_ok\"]"
   ]
  },
  {
   "cell_type": "code",
   "execution_count": 2,
   "metadata": {},
   "outputs": [
    {
     "data": {
      "text/plain": [
       "<pymongo.results.InsertManyResult at 0x7f4f5ffc17c0>"
      ]
     },
     "execution_count": 2,
     "metadata": {},
     "output_type": "execute_result"
    }
   ],
   "source": [
    "pipeline = [\n",
    "    {\n",
    "        '$group': {\n",
    "            '_id': '$title', # Regrouper par le champ 'title'\n",
    "            'doc': {'$first': '$$ROOT'} # Conserver le premier document complet de chaque groupe\n",
    "        }\n",
    "    },\n",
    "    {\n",
    "        '$replaceRoot': {\n",
    "            'newRoot': '$doc' # Remplacer le document par le document complet conservé dans le champ 'doc'\n",
    "        }\n",
    "    }\n",
    "]\n",
    "\n",
    "# Nouvelle collection pour les documents dédupliqués\n",
    "new_collection = db['nbre_entrees_10kgood']\n",
    "\n",
    "# Insérer les documents dédupliqués dans la nouvelle collection\n",
    "new_collection.insert_many(collection.aggregate(pipeline))"
   ]
  }
 ],
 "metadata": {
  "kernelspec": {
   "display_name": "mongo",
   "language": "python",
   "name": "python3"
  },
  "language_info": {
   "codemirror_mode": {
    "name": "ipython",
    "version": 3
   },
   "file_extension": ".py",
   "mimetype": "text/x-python",
   "name": "python",
   "nbconvert_exporter": "python",
   "pygments_lexer": "ipython3",
   "version": "3.11.2"
  },
  "orig_nbformat": 4
 },
 "nbformat": 4,
 "nbformat_minor": 2
}
